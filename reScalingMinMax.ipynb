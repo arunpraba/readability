{
  "nbformat": 4,
  "nbformat_minor": 0,
  "metadata": {
    "colab": {
      "name": "reScalingMinMax.ipynb",
      "version": "0.3.2",
      "provenance": [],
      "collapsed_sections": []
    },
    "kernelspec": {
      "name": "python3",
      "display_name": "Python 3"
    }
  },
  "cells": [
    {
      "cell_type": "markdown",
      "metadata": {
        "id": "view-in-github",
        "colab_type": "text"
      },
      "source": [
        "[View in Colaboratory](https://colab.research.google.com/github/arunpraba/readability/blob/better-detect-main-content-node/reScalingMinMax.ipynb)"
      ]
    },
    {
      "metadata": {
        "id": "03cFIKxALTUt",
        "colab_type": "code",
        "colab": {
          "base_uri": "https://localhost:8080/",
          "height": 139
        },
        "outputId": "de695296-9991-475b-de37-94b5e687a4c9"
      },
      "cell_type": "code",
      "source": [
        "#rescaling with min max scaler\n",
        "\n",
        "import numpy as np\n",
        "from sklearn import preprocessing\n",
        "\n",
        "mat = np.array([[1],[2],[3],[4]])\n",
        "\n",
        "minmax = preprocessing.MinMaxScaler(feature_range=(0,1))\n",
        "scaled_feature = minmax.fit_transform(mat)\n",
        "print(scaled_feature)\n",
        "\n"
      ],
      "execution_count": 1,
      "outputs": [
        {
          "output_type": "stream",
          "text": [
            "[[0.        ]\n",
            " [0.33333333]\n",
            " [0.66666667]\n",
            " [1.        ]]\n"
          ],
          "name": "stdout"
        },
        {
          "output_type": "stream",
          "text": [
            "/usr/local/lib/python3.6/dist-packages/sklearn/utils/validation.py:475: DataConversionWarning: Data with input dtype int64 was converted to float64 by MinMaxScaler.\n",
            "  warnings.warn(msg, DataConversionWarning)\n"
          ],
          "name": "stderr"
        }
      ]
    }
  ]
}